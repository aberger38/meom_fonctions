{
 "cells": [
  {
   "cell_type": "code",
   "execution_count": 1,
   "metadata": {},
   "outputs": [],
   "source": [
    "import numpy as np\n",
    "import qgutils as qg\n",
    "import sys"
   ]
  },
  {
   "cell_type": "code",
   "execution_count": 2,
   "metadata": {},
   "outputs": [],
   "source": [
    "def get_psi(p, fo):\n",
    "    \n",
    "    '''\n",
    "    parameters\n",
    "    \n",
    "    p : array[nz, nx, ny]\n",
    "    f0 : scalar \n",
    "    \n",
    "    '''\n",
    "    \n",
    "    nd = p.ndim\n",
    "    \n",
    "    if nd < 3:\n",
    "        print(\"not handling less than 3D arrays\")\n",
    "        sys.exit(1)\n",
    "        \n",
    "    psi = qg.interp_on_c(p)/f0\n",
    "    \n",
    "    return psi\n"
   ]
  },
  {
   "cell_type": "code",
   "execution_count": 5,
   "metadata": {},
   "outputs": [],
   "source": [
    "#moyenne sur le temps\n",
    "\n",
    "'''\n",
    "f : netcdf file\n",
    "f0 : coriolis parameter\n",
    "si_x, si_y, si_t : size of psi\n",
    "'''\n",
    "\n",
    "def mean_psi(f, f0, si_x, si_y, si_t):\n",
    "    psi_me = 0.0*np.zeros((si_x,si_y))\n",
    "    n_me = 0\n",
    "    nt = 0\n",
    "    for nt in range(0,si_t):\n",
    "        psi = get_psi(f.variables['p'][nt,:,:,:].copy(),f0)\n",
    "        psi_me = psi_me + psi\n",
    "        n_me   = n_me + 1\n",
    "\n",
    "    return psi_me/n_me\n",
    "    "
   ]
  },
  {
   "cell_type": "code",
   "execution_count": 6,
   "metadata": {},
   "outputs": [],
   "source": [
    "#moyenne sur le temps de KE psi turbulent\n",
    "\n",
    "'''\n",
    "f : netcdf file\n",
    "f0 : coriolis parameter\n",
    "si_x, si_y, si_t : size of psi\n",
    "psi_me : moyenne temporelle de psi\n",
    "'''\n",
    "\n",
    "def mean_psi_turb(f1, f0, psi_me, si_x, si_y, si_t, Delta ):\n",
    "    ke_turb_me  = 0.0*np.zeros((si_y,si_x))\n",
    "    nt=0\n",
    "    for nt in range(0,si_t):\n",
    "        psi_tu = get_psi(f1.variables['p'][nt,:,:,:].copy(), f0) - psi_me\n",
    "        ke_turb_me = ke_turb_me + qg.comp_ke(psi_tu, Delta) \n",
    "    \n",
    "    return ke_turb_me/si_t"
   ]
  },
  {
   "cell_type": "code",
   "execution_count": 20,
   "metadata": {},
   "outputs": [],
   "source": [
    "def psi_filtre (f, t_filtre):\n",
    "    \n",
    "    '''\n",
    "    function which gives an iterator of the filtered dataset \n",
    "    \n",
    "    parameters\n",
    "    \n",
    "    psi : [nt, 3, (,nx, ny)]\n",
    "    others : scalars\n",
    "    '''\n",
    "    \n",
    "    nd = psi.ndim\n",
    "    \n",
    "    if nd < 4:\n",
    "        print(\"not handling less than 4D arrays\")\n",
    "        sys.exit(1)\n",
    "    \n",
    "    \n",
    "    sha_nt = psi[:,0,0,0].shape\n",
    "    if sha_nt[0]<= 2*t_filtre:\n",
    "        print(\"number of time step isn't big enough to handle the filter\")\n",
    "        sys.exit(1)\n",
    "    \n",
    "    si_z, si_x, si_y = psi.shape\n",
    "    \n",
    "    psi_filt = np.zeros((si_t - 2*t_filtre, 3, si_x, si_y))\n",
    "    nt = t_filtre\n",
    "    \n",
    "    for nt in range(t_filtre, si_t2 - t_filtre):\n",
    "        psi_filt[nt-t_filtre,:,:,:] = np.mean(psi[nt-t_filtre:nt+t_filtre,:,:,:], axis=0)\n",
    "        nt = nt+1\n",
    "        \n",
    "    yield psi_filt"
   ]
  }
 ],
 "metadata": {
  "kernelspec": {
   "display_name": "Python 3",
   "language": "python",
   "name": "python3"
  },
  "language_info": {
   "codemirror_mode": {
    "name": "ipython",
    "version": 3
   },
   "file_extension": ".py",
   "mimetype": "text/x-python",
   "name": "python",
   "nbconvert_exporter": "python",
   "pygments_lexer": "ipython3",
   "version": "3.8.5"
  }
 },
 "nbformat": 4,
 "nbformat_minor": 4
}
